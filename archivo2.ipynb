{
 "cells": [
  {
   "cell_type": "code",
   "execution_count": 1,
   "metadata": {},
   "outputs": [],
   "source": [
    "import time\n",
    "import numpy as np\n",
    "import h5py\n",
    "import matplotlib.pyplot as plt\n",
    "import scipy\n",
    "from PIL import Image\n",
    "from scipy import ndimage\n",
    "from numpy import asarray\n",
    "#from dnn_app_utils_v3 import *"
   ]
  },
  {
   "cell_type": "code",
   "execution_count": null,
   "metadata": {},
   "outputs": [],
   "source": [
    "def load_proyectddo():\n",
    "    import os \n",
    "    from PIL import Image\n",
    "    import numpy as np\n",
    "\n",
    "    train_set_x_orig = []\n",
    "    # train_set_x_orig.tolist()\n",
    "    # train_set_x_orig = np.array([])\n",
    "    # train_set_x_orig = np.array()\n",
    "\n",
    "    for dirname, _, filenames in os.walk('makeup/train/makeup'):\n",
    "        for filename in filenames:\n",
    "            image_path = os.path.join(dirname, filename)\n",
    "            img = Image.open(image_path)\n",
    "            image_array = np.array(img)\n",
    "            #image_array = asarray(img)\n",
    "            train_set_x_orig.append(image_array)\n",
    "            \n",
    "    for dirname, _, filenames in os.walk('makeup/train/no_makeup'):\n",
    "        for filename in filenames:\n",
    "            image_path = os.path.join(dirname, filename)\n",
    "            img = Image.open(image_path)\n",
    "            image_array = np.array(img)\n",
    "            #image_array = asarray(img)\n",
    "            train_set_x_orig.append(image_array)\n",
    "    \n",
    "    train_set_y = []\n",
    "    for i in range(0, 858):\n",
    "        #makeup\n",
    "        train_set_y.append(1)\n",
    "    \n",
    "    for i in range(0, 361):\n",
    "        #no makeup\n",
    "        train_set_y.append(0)\n",
    "    \n",
    "    \n",
    "    \n",
    "    # train_set_x_orig = np.asarray(train_set_x_orig)\n",
    "    # train_set_x_orig = np.array(train_set_x_orig)\n",
    "    return np.array(train_set_x_orig), np.array([train_set_y])"
   ]
  },
  {
   "cell_type": "code",
   "execution_count": null,
   "metadata": {},
   "outputs": [],
   "source": [
    "train_set_x_orig, train_set_y_orig = load_proyectddo()"
   ]
  },
  {
   "cell_type": "code",
   "execution_count": null,
   "metadata": {},
   "outputs": [],
   "source": [
    "print(train_set_x_orig.shape)\n",
    "print(train_set_y_orig.shape)"
   ]
  },
  {
   "cell_type": "code",
   "execution_count": null,
   "metadata": {},
   "outputs": [],
   "source": [
    "train_set_x_orig"
   ]
  },
  {
   "cell_type": "code",
   "execution_count": null,
   "metadata": {},
   "outputs": [],
   "source": [
    "# Example of a picture\n",
    "index = 900\n",
    "plt.imshow(train_set_x_orig[index])"
   ]
  },
  {
   "cell_type": "code",
   "execution_count": null,
   "metadata": {},
   "outputs": [],
   "source": [
    "# Reshape the training and test examples \n",
    "train_x_flatten = train_x_orig.reshape(train_x_orig.shape[0], -1).T   # The \"-1\" makes reshape flatten the remaining dimensions\n",
    "test_x_flatten = test_x_orig.reshape(test_x_orig.shape[0], -1).T\n",
    "\n",
    "# Standardize data to have feature values between 0 and 1.\n",
    "train_x = train_x_flatten/255.\n",
    "test_x = test_x_flatten/255.\n",
    "\n",
    "print (\"train_x's shape: \" + str(train_x.shape))\n",
    "print (\"test_x's shape: \" + str(test_x.shape))"
   ]
  }
 ],
 "metadata": {
  "kernelspec": {
   "display_name": "Python 3",
   "language": "python",
   "name": "python3"
  },
  "language_info": {
   "codemirror_mode": {
    "name": "ipython",
    "version": 3
   },
   "file_extension": ".py",
   "mimetype": "text/x-python",
   "name": "python",
   "nbconvert_exporter": "python",
   "pygments_lexer": "ipython3",
   "version": "3.7.3"
  }
 },
 "nbformat": 4,
 "nbformat_minor": 2
}
