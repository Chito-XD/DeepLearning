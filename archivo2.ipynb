{
 "cells": [
  {
   "cell_type": "code",
   "execution_count": 13,
   "metadata": {},
   "outputs": [
    {
     "name": "stdout",
     "output_type": "stream",
     "text": [
      "[[[169 176 186]\n",
      "  [169 176 186]\n",
      "  [170 177 187]\n",
      "  ...\n",
      "  [170 177 187]\n",
      "  [170 177 187]\n",
      "  [170 177 187]]\n",
      "\n",
      " [[169 176 186]\n",
      "  [170 177 187]\n",
      "  [170 177 187]\n",
      "  ...\n",
      "  [170 177 187]\n",
      "  [170 177 187]\n",
      "  [170 177 187]]\n",
      "\n",
      " [[170 177 187]\n",
      "  [170 177 187]\n",
      "  [170 177 187]\n",
      "  ...\n",
      "  [170 177 187]\n",
      "  [170 177 187]\n",
      "  [170 177 187]]\n",
      "\n",
      " ...\n",
      "\n",
      " [[101 163 200]\n",
      "  [120 182 219]\n",
      "  [115 177 214]\n",
      "  ...\n",
      "  [111 173 210]\n",
      "  [ 97 159 196]\n",
      "  [113 175 212]]\n",
      "\n",
      " [[106 168 205]\n",
      "  [106 168 205]\n",
      "  [108 170 207]\n",
      "  ...\n",
      "  [114 176 213]\n",
      "  [ 90 152 189]\n",
      "  [106 168 205]]\n",
      "\n",
      " [[ 92 154 191]\n",
      "  [107 169 206]\n",
      "  [138 200 237]\n",
      "  ...\n",
      "  [133 195 232]\n",
      "  [118 180 217]\n",
      "  [106 168 205]]]\n"
     ]
    }
   ],
   "source": [
    "# Import the necessary libraries\n",
    "from PIL import Image\n",
    "from numpy import asarray\n",
    "  \n",
    "  \n",
    "# load the image and convert into \n",
    "# numpy array\n",
    "img = Image.open('makeup1005.jpeg')\n",
    "numpydata = asarray(img)\n",
    "  \n",
    "# data\n",
    "print(numpydata)"
   ]
  },
  {
   "cell_type": "code",
   "execution_count": 14,
   "metadata": {},
   "outputs": [
    {
     "data": {
      "text/plain": [
       "<matplotlib.image.AxesImage at 0x17c1800c908>"
      ]
     },
     "execution_count": 14,
     "metadata": {},
     "output_type": "execute_result"
    },
    {
     "data": {
      "image/png": "[encoded data removed]",
      "text/plain": [
       "<Figure size 432x288 with 1 Axes>"
      ]
     },
     "metadata": {
      "needs_background": "light"
     },
     "output_type": "display_data"
    }
   ],
   "source": [
    "# Example of a picture\n",
    "index = 10\n",
    "plt.imshow(numpydata[index])"
   ]
  },
  {
   "cell_type": "code",
   "execution_count": null,
   "metadata": {},
   "outputs": [],
   "source": []
  }
 ],
 "metadata": {
  "kernelspec": {
   "display_name": "Python 3",
   "language": "python",
   "name": "python3"
  },
  "language_info": {
   "codemirror_mode": {
    "name": "ipython",
    "version": 3
   },
   "file_extension": ".py",
   "mimetype": "text/x-python",
   "name": "python",
   "nbconvert_exporter": "python",
   "pygments_lexer": "ipython3",
   "version": "3.7.3"
  }
 },
 "nbformat": 4,
 "nbformat_minor": 2
}
