{
 "cells": [
  {
   "cell_type": "code",
   "execution_count": 1,
   "metadata": {},
   "outputs": [],
   "source": [
    "from pathlib import Path\n",
    "from PIL import Image\n",
    "import os, shutil\n",
    "from os import listdir\n",
    "## Image Resizing\n",
    "from PIL import Image\n",
    "import numpy as np\n",
    "\n",
    "# load and display an image with Matplotlib\n",
    "from matplotlib import image\n",
    "from matplotlib import pyplot\n",
    "import matplotlib.pyplot as plt\n",
    "from dnn_app_utils_v3 import *"
   ]
  },
  {
   "cell_type": "markdown",
   "metadata": {},
   "source": [
    "Get the train data"
   ]
  },
  {
   "cell_type": "code",
   "execution_count": 2,
   "metadata": {},
   "outputs": [],
   "source": [
    "train_x_orig, train_y = get_train_data()"
   ]
  },
  {
   "cell_type": "markdown",
   "metadata": {},
   "source": [
    "Get the test data"
   ]
  },
  {
   "cell_type": "code",
   "execution_count": 3,
   "metadata": {},
   "outputs": [],
   "source": [
    "test_x_orig, test_y = get_test_data()"
   ]
  },
  {
   "cell_type": "markdown",
   "metadata": {},
   "source": [
    "Get the dev data"
   ]
  },
  {
   "cell_type": "code",
   "execution_count": 4,
   "metadata": {},
   "outputs": [],
   "source": [
    "dev_x_orig, dev_y = get_dev_data()"
   ]
  },
  {
   "cell_type": "markdown",
   "metadata": {},
   "source": [
    "Plot a random image from the training data set "
   ]
  },
  {
   "cell_type": "code",
   "execution_count": 5,
   "metadata": {},
   "outputs": [
    {
     "data": {
      "text/plain": [
       "<matplotlib.image.AxesImage at 0x22f15ec6cf8>"
      ]
     },
     "execution_count": 5,
     "metadata": {},
     "output_type": "execute_result"
    },
    {
     "data": {
      "image/png": "[encoded data removed]",
      "text/plain": [
       "<Figure size 432x288 with 1 Axes>"
      ]
     },
     "metadata": {
      "needs_background": "light"
     },
     "output_type": "display_data"
    }
   ],
   "source": [
    "plt.imshow(train_x_orig[800])"
   ]
  },
  {
   "cell_type": "markdown",
   "metadata": {},
   "source": [
    "Explore our dataset based on the shapes"
   ]
  },
  {
   "cell_type": "code",
   "execution_count": 6,
   "metadata": {},
   "outputs": [
    {
     "name": "stdout",
     "output_type": "stream",
     "text": [
      "(64, 64, 3)\n",
      "Number of training examples: 1219\n",
      "Number of testing examples: 267\n",
      "Each image is of size: (64, 64, 3)\n",
      "train_x_orig shape: (1219, 64, 64, 3)\n",
      "train_y shape: (1, 1219)\n",
      "test_x_orig shape: (267, 64, 64, 3)\n",
      "test_y shape: (1, 267)\n"
     ]
    }
   ],
   "source": [
    "m_train = train_x_orig.shape[0]\n",
    "num_px = train_x_orig.shape[1]\n",
    "print(train_x_orig[5].shape)\n",
    "m_test = test_x_orig.shape[0]\n",
    "\n",
    "print (\"Number of training examples: \" + str(m_train))\n",
    "print (\"Number of testing examples: \" + str(m_test))\n",
    "print (\"Each image is of size: (\" + str(num_px) + \", \" + str(num_px) + \", 3)\")\n",
    "print (\"train_x_orig shape: \" + str(train_x_orig.shape))\n",
    "print (\"train_y shape: \" + str(train_y.shape))\n",
    "print (\"test_x_orig shape: \" + str(test_x_orig.shape))\n",
    "print (\"test_y shape: \" + str(test_y.shape))"
   ]
  },
  {
   "cell_type": "markdown",
   "metadata": {},
   "source": [
    "Reshape the training, test and dev test exampes \n",
    "In this way, we change the form of our data set without losing information"
   ]
  },
  {
   "cell_type": "code",
   "execution_count": 7,
   "metadata": {},
   "outputs": [
    {
     "name": "stdout",
     "output_type": "stream",
     "text": [
      "train_x's shape: (12288, 1219)\n",
      "test_x's shape: (12288, 267)\n",
      "dev_x's shape: (12288, 20)\n"
     ]
    }
   ],
   "source": [
    "train_x_flatten = train_x_orig.reshape(train_x_orig.shape[0], -1).T \n",
    "test_x_flatten = test_x_orig.reshape(test_x_orig.shape[0], -1).T\n",
    "dev_x_flatten = dev_x_orig.reshape(dev_x_orig.shape[0], -1).T\n",
    "\n",
    "train_x = train_x_flatten/255.\n",
    "test_x = test_x_flatten/255.\n",
    "dev_x = dev_x_flatten/255.\n",
    "\n",
    "print (\"train_x's shape: \" + str(train_x.shape))\n",
    "print (\"test_x's shape: \" + str(test_x.shape))\n",
    "print (\"dev_x's shape: \" + str(dev_x.shape))"
   ]
  },
  {
   "cell_type": "markdown",
   "metadata": {},
   "source": [
    "# First model with 2 layers"
   ]
  },
  {
   "cell_type": "code",
   "execution_count": 8,
   "metadata": {},
   "outputs": [],
   "source": [
    "### CONSTANTS DEFINING THE MODEL ####\n",
    "n_x = 12288     # num_px * num_px * 3\n",
    "n_h = 7\n",
    "n_y = 1\n",
    "layers_dims = (n_x, n_h, n_y)"
   ]
  },
  {
   "cell_type": "code",
   "execution_count": 9,
   "metadata": {},
   "outputs": [],
   "source": [
    "# GRADED FUNCTION: two_layer_model\n",
    "\n",
    "def two_layer_model(X, Y, layers_dims, learning_rate = 0.0075, num_iterations = 3000, print_cost=False):\n",
    "    \"\"\"\n",
    "    Implements a two-layer neural network: LINEAR->RELU->LINEAR->SIGMOID.\n",
    "    \n",
    "    Arguments:\n",
    "    X -- input data, of shape (n_x, number of examples)\n",
    "    Y -- true \"label\" vector (containing 0 if cat, 1 if non-cat), of shape (1, number of examples)\n",
    "    layers_dims -- dimensions of the layers (n_x, n_h, n_y)\n",
    "    num_iterations -- number of iterations of the optimization loop\n",
    "    learning_rate -- learning rate of the gradient descent update rule\n",
    "    print_cost -- If set to True, this will print the cost every 100 iterations \n",
    "    \n",
    "    Returns:\n",
    "    parameters -- a dictionary containing W1, W2, b1, and b2\n",
    "    \"\"\"\n",
    "    \n",
    "    np.random.seed(1)\n",
    "    grads = {}\n",
    "    costs = []                              # to keep track of the cost\n",
    "    m = X.shape[1]                           # number of examples\n",
    "    (n_x, n_h, n_y) = layers_dims\n",
    "    \n",
    "    # Initialize parameters dictionary, by calling one of the functions you'd previously implemented\n",
    "    ### START CODE HERE ### (≈ 1 line of code)\n",
    "    parameters = initialize_parameters(n_x, n_h, n_y)\n",
    "    ### END CODE HERE ###\n",
    "    \n",
    "    # Get W1, b1, W2 and b2 from the dictionary parameters.\n",
    "    W1 = parameters[\"W1\"]\n",
    "    b1 = parameters[\"b1\"]\n",
    "    W2 = parameters[\"W2\"]\n",
    "    b2 = parameters[\"b2\"]\n",
    "    \n",
    "    # Loop (gradient descent)\n",
    "\n",
    "    for i in range(0, num_iterations):\n",
    "\n",
    "        # Forward propagation: LINEAR -> RELU -> LINEAR -> SIGMOID. Inputs: \"X, W1, b1, W2, b2\". Output: \"A1, cache1, A2, cache2\".\n",
    "        ### START CODE HERE ### (≈ 2 lines of code)\n",
    "        A1, cache1 = linear_activation_forward(X, W1, b1, activation= \"relu\")\n",
    "        A2, cache2 = linear_activation_forward(A1, W2, b2, activation= \"sigmoid\")\n",
    "        ### END CODE HERE ###\n",
    "        \n",
    "        # Compute cost\n",
    "        ### START CODE HERE ### (≈ 1 line of code)\n",
    "        cost = compute_cost(A2, Y)\n",
    "        ### END CODE HERE ###\n",
    "        \n",
    "        # Initializing backward propagation\n",
    "        dA2 = - (np.divide(Y, A2) - np.divide(1 - Y, 1 - A2))\n",
    "        \n",
    "        # Backward propagation. Inputs: \"dA2, cache2, cache1\". Outputs: \"dA1, dW2, db2; also dA0 (not used), dW1, db1\".\n",
    "        ### START CODE HERE ### (≈ 2 lines of code)\n",
    "        dA1, dW2, db2 = linear_activation_backward(dA2, cache2, activation = \"sigmoid\")\n",
    "        dA0, dW1, db1 = linear_activation_backward(dA1, cache1, activation = \"relu\")\n",
    "        ### END CODE HERE ###\n",
    "        \n",
    "        # Set grads['dWl'] to dW1, grads['db1'] to db1, grads['dW2'] to dW2, grads['db2'] to db2\n",
    "        grads['dW1'] = dW1\n",
    "        grads['db1'] = db1\n",
    "        grads['dW2'] = dW2\n",
    "        grads['db2'] = db2\n",
    "        \n",
    "        # Update parameters.\n",
    "        ### START CODE HERE ### (approx. 1 line of code)\n",
    "        parameters = update_parameters(parameters, grads, learning_rate)\n",
    "        ### END CODE HERE ###\n",
    "\n",
    "        # Retrieve W1, b1, W2, b2 from parameters\n",
    "        W1 = parameters[\"W1\"]\n",
    "        b1 = parameters[\"b1\"]\n",
    "        W2 = parameters[\"W2\"]\n",
    "        b2 = parameters[\"b2\"]\n",
    "        \n",
    "        # Print the cost every 100 training example\n",
    "        if print_cost and i % 100 == 0:\n",
    "            print(\"Cost after iteration {}: {}\".format(i, np.squeeze(cost)))\n",
    "        if print_cost and i % 100 == 0:\n",
    "            costs.append(cost)\n",
    "       \n",
    "    # plot the cost\n",
    "\n",
    "    plt.plot(np.squeeze(costs))\n",
    "    plt.ylabel('cost')\n",
    "    plt.xlabel('iterations (per tens)')\n",
    "    plt.title(\"Learning rate =\" + str(learning_rate))\n",
    "    plt.show()\n",
    "    \n",
    "    return parameters"
   ]
  },
  {
   "cell_type": "code",
   "execution_count": 10,
   "metadata": {},
   "outputs": [
    {
     "name": "stdout",
     "output_type": "stream",
     "text": [
      "Cost after iteration 0: 0.6942817657137829\n",
      "Cost after iteration 100: 0.6020379283641577\n",
      "Cost after iteration 200: 0.5970238576356243\n",
      "Cost after iteration 300: 0.5912125044925365\n",
      "Cost after iteration 400: 0.5854209847273797\n",
      "Cost after iteration 500: 0.5800898217937484\n",
      "Cost after iteration 600: 0.5743181373863203\n",
      "Cost after iteration 700: 0.5680414142465429\n",
      "Cost after iteration 800: 0.5611747116767568\n",
      "Cost after iteration 900: 0.5534366104455352\n",
      "Cost after iteration 1000: 0.544646574192716\n",
      "Cost after iteration 1100: 0.5353187763503472\n",
      "Cost after iteration 1200: 0.5299179256691945\n",
      "Cost after iteration 1300: 0.5343716738655679\n",
      "Cost after iteration 1400: 0.5314823030987307\n",
      "Cost after iteration 1500: 0.528099378806382\n",
      "Cost after iteration 1600: 0.5237944315509854\n",
      "Cost after iteration 1700: 0.5203001864718696\n",
      "Cost after iteration 1800: 0.5175509976485427\n",
      "Cost after iteration 1900: 0.5147801397499864\n",
      "Cost after iteration 2000: 0.5105512500974136\n",
      "Cost after iteration 2100: 0.5054104768690354\n",
      "Cost after iteration 2200: 0.5001308523123543\n",
      "Cost after iteration 2300: 0.5005212773284131\n",
      "Cost after iteration 2400: 0.4937919118665592\n"
     ]
    },
    {
     "data": {
      "image/png": "[encoded data removed]",
      "text/plain": [
       "<Figure size 432x288 with 1 Axes>"
      ]
     },
     "metadata": {
      "needs_background": "light"
     },
     "output_type": "display_data"
    }
   ],
   "source": [
    "parameters = two_layer_model(train_x, train_y, layers_dims = (n_x, n_h, n_y), num_iterations = 2500, print_cost=True)"
   ]
  },
  {
   "cell_type": "code",
   "execution_count": 11,
   "metadata": {},
   "outputs": [
    {
     "name": "stdout",
     "output_type": "stream",
     "text": [
      "Accuracy: 0.8301886792452831\n"
     ]
    }
   ],
   "source": [
    "predictions_train = predict(train_x, train_y, parameters)"
   ]
  },
  {
   "cell_type": "code",
   "execution_count": 12,
   "metadata": {},
   "outputs": [
    {
     "name": "stdout",
     "output_type": "stream",
     "text": [
      "Accuracy: 0.5\n"
     ]
    }
   ],
   "source": [
    "predictions_dev = predict(dev_x, dev_y, parameters)"
   ]
  },
  {
   "cell_type": "code",
   "execution_count": 13,
   "metadata": {},
   "outputs": [
    {
     "name": "stdout",
     "output_type": "stream",
     "text": [
      "Accuracy: 0.6404494382022472\n"
     ]
    }
   ],
   "source": [
    "predictions_test = predict(test_x, test_y, parameters)"
   ]
  },
  {
   "cell_type": "code",
   "execution_count": null,
   "metadata": {},
   "outputs": [],
   "source": []
  },
  {
   "cell_type": "markdown",
   "metadata": {},
   "source": [
    "# Second model with 4 layer"
   ]
  },
  {
   "cell_type": "code",
   "execution_count": 14,
   "metadata": {},
   "outputs": [],
   "source": [
    "### CONSTANTS ###\n",
    "layers_dims = [12288, 20, 7, 5, 1] #  4-layer model"
   ]
  },
  {
   "cell_type": "code",
   "execution_count": 15,
   "metadata": {},
   "outputs": [],
   "source": [
    "# GRADED FUNCTION: L_layer_model\n",
    "\n",
    "def L_layer_model(X, Y, layers_dims, learning_rate = 0.0075, num_iterations = 3000, print_cost=False):#lr was 0.009\n",
    "    \"\"\"\n",
    "    Implements a L-layer neural network: [LINEAR->RELU]*(L-1)->LINEAR->SIGMOID.\n",
    "    \n",
    "    Arguments:\n",
    "    X -- data, numpy array of shape (number of examples, num_px * num_px * 3)\n",
    "    Y -- true \"label\" vector (containing 0 if cat, 1 if non-cat), of shape (1, number of examples)\n",
    "    layers_dims -- list containing the input size and each layer size, of length (number of layers + 1).\n",
    "    learning_rate -- learning rate of the gradient descent update rule\n",
    "    num_iterations -- number of iterations of the optimization loop\n",
    "    print_cost -- if True, it prints the cost every 100 steps\n",
    "    \n",
    "    Returns:\n",
    "    parameters -- parameters learnt by the model. They can then be used to predict.\n",
    "    \"\"\"\n",
    "\n",
    "    np.random.seed(1)\n",
    "    costs = []                         # keep track of cost\n",
    "    \n",
    "    # Parameters initialization. (≈ 1 line of code)\n",
    "    ### START CODE HERE ###\n",
    "    parameters = initialize_parameters_deep(layers_dims)\n",
    "    ### END CODE HERE ###\n",
    "    \n",
    "    # Loop (gradient descent)\n",
    "    for i in range(0, num_iterations):\n",
    "\n",
    "        # Forward propagation: [LINEAR -> RELU]*(L-1) -> LINEAR -> SIGMOID.\n",
    "        ### START CODE HERE ### (≈ 1 line of code)\n",
    "        AL, caches = L_model_forward(X, parameters)\n",
    "        ### END CODE HERE ###\n",
    "        \n",
    "        # Compute cost.\n",
    "        ### START CODE HERE ### (≈ 1 line of code)\n",
    "        cost = compute_cost(AL, Y)\n",
    "        ### END CODE HERE ###\n",
    "    \n",
    "        # Backward propagation.\n",
    "        ### START CODE HERE ### (≈ 1 line of code)\n",
    "        grads = L_model_backward(AL, Y, caches)\n",
    "        ### END CODE HERE ###\n",
    " \n",
    "        # Update parameters.\n",
    "        ### START CODE HERE ### (≈ 1 line of code)\n",
    "        parameters = update_parameters(parameters, grads, learning_rate)\n",
    "        ### END CODE HERE ###\n",
    "                \n",
    "        # Print the cost every 100 training example\n",
    "        if print_cost and i % 100 == 0:\n",
    "            print (\"Cost after iteration %i: %f\" %(i, cost))\n",
    "        if print_cost and i % 100 == 0:\n",
    "            costs.append(cost)\n",
    "            \n",
    "    # plot the cost\n",
    "    plt.plot(np.squeeze(costs))\n",
    "    plt.ylabel('cost')\n",
    "    plt.xlabel('iterations (per tens)')\n",
    "    plt.title(\"Learning rate =\" + str(learning_rate))\n",
    "    plt.show()\n",
    "    \n",
    "    return parameters"
   ]
  },
  {
   "cell_type": "code",
   "execution_count": 16,
   "metadata": {},
   "outputs": [
    {
     "name": "stdout",
     "output_type": "stream",
     "text": [
      "Cost after iteration 0: 0.620289\n",
      "Cost after iteration 100: 0.579312\n",
      "Cost after iteration 200: 0.563606\n",
      "Cost after iteration 300: 0.557126\n",
      "Cost after iteration 400: 0.541766\n",
      "Cost after iteration 500: 0.532322\n",
      "Cost after iteration 600: 0.522355\n",
      "Cost after iteration 700: 0.528650\n",
      "Cost after iteration 800: 0.502115\n",
      "Cost after iteration 900: 0.506676\n",
      "Cost after iteration 1000: 0.493842\n",
      "Cost after iteration 1100: 0.480463\n",
      "Cost after iteration 1200: 0.492648\n",
      "Cost after iteration 1300: 0.478944\n",
      "Cost after iteration 1400: 0.502931\n",
      "Cost after iteration 1500: 0.468114\n",
      "Cost after iteration 1600: 0.463236\n",
      "Cost after iteration 1700: 0.415034\n",
      "Cost after iteration 1800: 0.432848\n",
      "Cost after iteration 1900: 0.391059\n",
      "Cost after iteration 2000: 0.389707\n",
      "Cost after iteration 2100: 0.400504\n",
      "Cost after iteration 2200: 0.363273\n",
      "Cost after iteration 2300: 0.360057\n",
      "Cost after iteration 2400: 0.362843\n"
     ]
    },
    {
     "data": {
      "image/png": "[encoded data removed]",
      "text/plain": [
       "<Figure size 432x288 with 1 Axes>"
      ]
     },
     "metadata": {
      "needs_background": "light"
     },
     "output_type": "display_data"
    }
   ],
   "source": [
    "parameters = L_layer_model(train_x, train_y, layers_dims, num_iterations = 2500, print_cost = True)"
   ]
  },
  {
   "cell_type": "code",
   "execution_count": 17,
   "metadata": {},
   "outputs": [
    {
     "name": "stdout",
     "output_type": "stream",
     "text": [
      "Accuracy: 0.9105824446267432\n"
     ]
    }
   ],
   "source": [
    "pred_train = predict(train_x, train_y, parameters)"
   ]
  },
  {
   "cell_type": "code",
   "execution_count": 18,
   "metadata": {},
   "outputs": [
    {
     "name": "stdout",
     "output_type": "stream",
     "text": [
      "Accuracy: 0.6500000000000001\n"
     ]
    }
   ],
   "source": [
    "pred_dev = predict(dev_x, dev_y, parameters)"
   ]
  },
  {
   "cell_type": "code",
   "execution_count": 19,
   "metadata": {},
   "outputs": [
    {
     "name": "stdout",
     "output_type": "stream",
     "text": [
      "Accuracy: 0.602996254681648\n"
     ]
    }
   ],
   "source": [
    "red_test = predict(test_x, test_y, parameters)"
   ]
  },
  {
   "cell_type": "markdown",
   "metadata": {},
   "source": [
    "# Our model"
   ]
  },
  {
   "cell_type": "code",
   "execution_count": 20,
   "metadata": {},
   "outputs": [],
   "source": [
    "# GRADED FUNCTION: \n",
    "def us_layer_model(X, Y, layers_dims, learning_rate, num_iterations, print_cost=False):\n",
    "    np.random.seed(1)\n",
    "    costs = []                         # keep track of cost\n",
    "    \n",
    "    parameters = initialize_parameters_deep(layers_dims)\n",
    "    \n",
    "    # Loop (gradient descent)\n",
    "    for i in range(0, num_iterations):\n",
    "\n",
    "        # Forward propagation: [LINEAR -> RELU]*(L-1) -> LINEAR -> SIGMOID.\n",
    "        AL, caches = L_model_forward(X, parameters)\n",
    "        \n",
    "        # Compute cost.\n",
    "        cost = compute_cost(AL, Y)\n",
    "    \n",
    "        # Backward propagation.\n",
    "        grads = L_model_backward(AL, Y, caches)\n",
    " \n",
    "        # Update parameters.\n",
    "        parameters = update_parameters(parameters, grads, learning_rate)\n",
    "                \n",
    "        # Print the cost every 100 training example\n",
    "        if print_cost and i % 100 == 0:\n",
    "            print (\"Cost after iteration %i: %f\" %(i, cost))\n",
    "        if print_cost and i % 100 == 0:\n",
    "            costs.append(cost)\n",
    "            \n",
    "    # plot the cost\n",
    "    plt.plot(np.squeeze(costs))\n",
    "    plt.ylabel('cost')\n",
    "    plt.xlabel('iterations (per tens)')\n",
    "    plt.title(\"Learning rate =\" + str(learning_rate))\n",
    "    plt.show()\n",
    "    \n",
    "    return parameters"
   ]
  },
  {
   "cell_type": "markdown",
   "metadata": {},
   "source": [
    "## First attempt \n",
    "- 5 layers\n",
    "- 0.005 learning rate\n",
    "- 5000 iterations"
   ]
  },
  {
   "cell_type": "code",
   "execution_count": 21,
   "metadata": {},
   "outputs": [],
   "source": [
    "### CONSTANTS ###\n",
    "layers_dims = [12288, 20, 14, 7, 5, 1] #  5-layer model"
   ]
  },
  {
   "cell_type": "code",
   "execution_count": 22,
   "metadata": {},
   "outputs": [
    {
     "name": "stdout",
     "output_type": "stream",
     "text": [
      "Cost after iteration 0: 0.715376\n",
      "Cost after iteration 100: 0.674728\n",
      "Cost after iteration 200: 0.660302\n",
      "Cost after iteration 300: 0.649023\n",
      "Cost after iteration 400: 0.640193\n",
      "Cost after iteration 500: 0.633249\n",
      "Cost after iteration 600: 0.627781\n",
      "Cost after iteration 700: 0.623466\n",
      "Cost after iteration 800: 0.620029\n",
      "Cost after iteration 900: 0.617287\n",
      "Cost after iteration 1000: 0.615075\n",
      "Cost after iteration 1100: 0.613141\n",
      "Cost after iteration 1200: 0.610941\n",
      "Cost after iteration 1300: 0.609031\n",
      "Cost after iteration 1400: 0.607278\n",
      "Cost after iteration 1500: 0.605632\n",
      "Cost after iteration 1600: 0.603800\n",
      "Cost after iteration 1700: 0.601753\n",
      "Cost after iteration 1800: 0.599652\n",
      "Cost after iteration 1900: 0.596963\n",
      "Cost after iteration 2000: 0.593923\n",
      "Cost after iteration 2100: 0.589669\n",
      "Cost after iteration 2200: 0.584629\n",
      "Cost after iteration 2300: 0.579495\n",
      "Cost after iteration 2400: 0.573743\n",
      "Cost after iteration 2500: 0.567516\n",
      "Cost after iteration 2600: 0.560990\n",
      "Cost after iteration 2700: 0.554610\n",
      "Cost after iteration 2800: 0.547869\n",
      "Cost after iteration 2900: 0.539665\n",
      "Cost after iteration 3000: 0.533286\n",
      "Cost after iteration 3100: 0.523567\n",
      "Cost after iteration 3200: 0.519471\n",
      "Cost after iteration 3300: 0.507023\n",
      "Cost after iteration 3400: 0.503535\n",
      "Cost after iteration 3500: 0.497286\n",
      "Cost after iteration 3600: 0.489016\n",
      "Cost after iteration 3700: 0.469099\n",
      "Cost after iteration 3800: 0.468431\n",
      "Cost after iteration 3900: 0.459689\n",
      "Cost after iteration 4000: 0.445031\n",
      "Cost after iteration 4100: 0.428885\n",
      "Cost after iteration 4200: 0.418147\n",
      "Cost after iteration 4300: 0.396122\n",
      "Cost after iteration 4400: 0.398771\n",
      "Cost after iteration 4500: 0.458780\n",
      "Cost after iteration 4600: 0.398456\n",
      "Cost after iteration 4700: 0.361602\n",
      "Cost after iteration 4800: 0.435547\n",
      "Cost after iteration 4900: 0.454753\n"
     ]
    },
    {
     "data": {
      "image/png": "[encoded data removed]",
      "text/plain": [
       "<Figure size 432x288 with 1 Axes>"
      ]
     },
     "metadata": {
      "needs_background": "light"
     },
     "output_type": "display_data"
    }
   ],
   "source": [
    "parameters = us_layer_model(train_x, train_y, layers_dims, learning_rate = 0.005, num_iterations = 5000, print_cost = True)"
   ]
  },
  {
   "cell_type": "markdown",
   "metadata": {},
   "source": [
    "### Results of the prediction"
   ]
  },
  {
   "cell_type": "code",
   "execution_count": 23,
   "metadata": {},
   "outputs": [
    {
     "name": "stdout",
     "output_type": "stream",
     "text": [
      "Accuracy: 0.9122231337161608\n"
     ]
    }
   ],
   "source": [
    "pred_train = predict(train_x, train_y, parameters)"
   ]
  },
  {
   "cell_type": "code",
   "execution_count": 24,
   "metadata": {},
   "outputs": [
    {
     "name": "stdout",
     "output_type": "stream",
     "text": [
      "Accuracy: 0.7500000000000002\n"
     ]
    }
   ],
   "source": [
    "pred_dev = predict(dev_x, dev_y, parameters)"
   ]
  },
  {
   "cell_type": "code",
   "execution_count": 25,
   "metadata": {},
   "outputs": [
    {
     "name": "stdout",
     "output_type": "stream",
     "text": [
      "Accuracy: 0.6629213483146068\n"
     ]
    }
   ],
   "source": [
    "pred_test = predict(test_x, test_y, parameters)"
   ]
  },
  {
   "cell_type": "markdown",
   "metadata": {},
   "source": [
    "## Second attempt \n",
    "- 5 layers\n",
    "- 0.0005 learning rate\n",
    "- 3000 iterations"
   ]
  },
  {
   "cell_type": "code",
   "execution_count": 26,
   "metadata": {},
   "outputs": [],
   "source": [
    "### CONSTANTS ###\n",
    "layers_dims = [12288, 20, 14, 7, 5, 1] #  5-layer model"
   ]
  },
  {
   "cell_type": "code",
   "execution_count": 27,
   "metadata": {},
   "outputs": [
    {
     "name": "stdout",
     "output_type": "stream",
     "text": [
      "Cost after iteration 0: 0.715376\n",
      "Cost after iteration 100: 0.691373\n",
      "Cost after iteration 200: 0.689209\n",
      "Cost after iteration 300: 0.687213\n",
      "Cost after iteration 400: 0.685290\n",
      "Cost after iteration 500: 0.683419\n",
      "Cost after iteration 600: 0.681595\n",
      "Cost after iteration 700: 0.679816\n",
      "Cost after iteration 800: 0.678081\n",
      "Cost after iteration 900: 0.676390\n",
      "Cost after iteration 1000: 0.674742\n",
      "Cost after iteration 1100: 0.673135\n",
      "Cost after iteration 1200: 0.671568\n",
      "Cost after iteration 1300: 0.670039\n",
      "Cost after iteration 1400: 0.668547\n",
      "Cost after iteration 1500: 0.667090\n",
      "Cost after iteration 1600: 0.665669\n",
      "Cost after iteration 1700: 0.664285\n",
      "Cost after iteration 1800: 0.662934\n",
      "Cost after iteration 1900: 0.661617\n",
      "Cost after iteration 2000: 0.660332\n",
      "Cost after iteration 2100: 0.659079\n",
      "Cost after iteration 2200: 0.657856\n",
      "Cost after iteration 2300: 0.656660\n",
      "Cost after iteration 2400: 0.655494\n",
      "Cost after iteration 2500: 0.654356\n",
      "Cost after iteration 2600: 0.653246\n",
      "Cost after iteration 2700: 0.652163\n",
      "Cost after iteration 2800: 0.651106\n",
      "Cost after iteration 2900: 0.650072\n"
     ]
    },
    {
     "data": {
      "image/png": "[encoded data removed]",
      "text/plain": [
       "<Figure size 432x288 with 1 Axes>"
      ]
     },
     "metadata": {
      "needs_background": "light"
     },
     "output_type": "display_data"
    }
   ],
   "source": [
    "parameters = us_layer_model(train_x, train_y, layers_dims, learning_rate = 0.0005, num_iterations = 3000, print_cost = True)"
   ]
  },
  {
   "cell_type": "markdown",
   "metadata": {},
   "source": [
    "### Results of prediction"
   ]
  },
  {
   "cell_type": "code",
   "execution_count": 28,
   "metadata": {},
   "outputs": [
    {
     "name": "stdout",
     "output_type": "stream",
     "text": [
      "Accuracy: 0.7038556193601313\n"
     ]
    }
   ],
   "source": [
    "pred_train = predict(train_x, train_y, parameters)"
   ]
  },
  {
   "cell_type": "code",
   "execution_count": 29,
   "metadata": {},
   "outputs": [
    {
     "name": "stdout",
     "output_type": "stream",
     "text": [
      "Accuracy: 0.5\n"
     ]
    }
   ],
   "source": [
    "pred_dev = predict(dev_x, dev_y, parameters)"
   ]
  },
  {
   "cell_type": "code",
   "execution_count": 30,
   "metadata": {},
   "outputs": [
    {
     "name": "stdout",
     "output_type": "stream",
     "text": [
      "Accuracy: 0.7265917602996256\n"
     ]
    }
   ],
   "source": [
    "pred_test = predict(test_x, test_y, parameters)"
   ]
  },
  {
   "cell_type": "markdown",
   "metadata": {},
   "source": [
    "## Third attempt \n",
    "- 3 layers\n",
    "- 0.0075 learning rate\n",
    "- 2500 iterations"
   ]
  },
  {
   "cell_type": "code",
   "execution_count": 31,
   "metadata": {},
   "outputs": [],
   "source": [
    "### CONSTANTS ###\n",
    "layers_dims = [12288, 15, 7, 1] #  3-layer model"
   ]
  },
  {
   "cell_type": "code",
   "execution_count": 32,
   "metadata": {},
   "outputs": [
    {
     "name": "stdout",
     "output_type": "stream",
     "text": [
      "Cost after iteration 0: 1.025269\n",
      "Cost after iteration 100: 0.589790\n",
      "Cost after iteration 200: 0.580571\n",
      "Cost after iteration 300: 0.572138\n",
      "Cost after iteration 400: 0.563207\n",
      "Cost after iteration 500: 0.553728\n",
      "Cost after iteration 600: 0.543263\n",
      "Cost after iteration 700: 0.530958\n",
      "Cost after iteration 800: 0.523511\n",
      "Cost after iteration 900: 0.527360\n",
      "Cost after iteration 1000: 0.520222\n",
      "Cost after iteration 1100: 0.513665\n",
      "Cost after iteration 1200: 0.504690\n",
      "Cost after iteration 1300: 0.500077\n",
      "Cost after iteration 1400: 0.491965\n",
      "Cost after iteration 1500: 0.483667\n",
      "Cost after iteration 1600: 0.474076\n",
      "Cost after iteration 1700: 0.468930\n",
      "Cost after iteration 1800: 0.461493\n",
      "Cost after iteration 1900: 0.452085\n",
      "Cost after iteration 2000: 0.446912\n",
      "Cost after iteration 2100: 0.436162\n",
      "Cost after iteration 2200: 0.427115\n",
      "Cost after iteration 2300: 0.419951\n",
      "Cost after iteration 2400: 0.414146\n"
     ]
    },
    {
     "data": {
      "image/png": "[encoded data removed]",
      "text/plain": [
       "<Figure size 432x288 with 1 Axes>"
      ]
     },
     "metadata": {
      "needs_background": "light"
     },
     "output_type": "display_data"
    }
   ],
   "source": [
    "parameters = us_layer_model(train_x, train_y, layers_dims, learning_rate = 0.0075, num_iterations = 2500, print_cost = True)"
   ]
  },
  {
   "cell_type": "markdown",
   "metadata": {},
   "source": [
    "### Results"
   ]
  },
  {
   "cell_type": "code",
   "execution_count": 33,
   "metadata": {},
   "outputs": [
    {
     "name": "stdout",
     "output_type": "stream",
     "text": [
      "Accuracy: 0.8621821164889254\n"
     ]
    }
   ],
   "source": [
    "pred_train = predict(train_x, train_y, parameters)"
   ]
  },
  {
   "cell_type": "code",
   "execution_count": 34,
   "metadata": {},
   "outputs": [
    {
     "name": "stdout",
     "output_type": "stream",
     "text": [
      "Accuracy: 0.7000000000000002\n"
     ]
    }
   ],
   "source": [
    "pred_dev = predict(dev_x, dev_y, parameters)"
   ]
  },
  {
   "cell_type": "code",
   "execution_count": 35,
   "metadata": {},
   "outputs": [
    {
     "name": "stdout",
     "output_type": "stream",
     "text": [
      "Accuracy: 0.6179775280898876\n"
     ]
    }
   ],
   "source": [
    "pred_test = predict(test_x, test_y, parameters)"
   ]
  },
  {
   "cell_type": "code",
   "execution_count": null,
   "metadata": {},
   "outputs": [],
   "source": []
  },
  {
   "cell_type": "markdown",
   "metadata": {},
   "source": [
    "## Fourth attempt \n",
    "- 3 layers\n",
    "- 0.0005 learning rate\n",
    "- 4000 iterations"
   ]
  },
  {
   "cell_type": "code",
   "execution_count": 36,
   "metadata": {},
   "outputs": [],
   "source": [
    "## CONSTANTS ###\n",
    "layers_dims = [12288, 15, 7, 1] #  3-layer model"
   ]
  },
  {
   "cell_type": "code",
   "execution_count": 37,
   "metadata": {},
   "outputs": [
    {
     "name": "stdout",
     "output_type": "stream",
     "text": [
      "Cost after iteration 0: 1.025269\n",
      "Cost after iteration 100: 0.611394\n",
      "Cost after iteration 200: 0.602981\n",
      "Cost after iteration 300: 0.601302\n",
      "Cost after iteration 400: 0.599943\n",
      "Cost after iteration 500: 0.598693\n",
      "Cost after iteration 600: 0.597515\n",
      "Cost after iteration 700: 0.596329\n",
      "Cost after iteration 800: 0.595196\n",
      "Cost after iteration 900: 0.594154\n",
      "Cost after iteration 1000: 0.593122\n",
      "Cost after iteration 1100: 0.592077\n",
      "Cost after iteration 1200: 0.591033\n",
      "Cost after iteration 1300: 0.590069\n",
      "Cost after iteration 1400: 0.589158\n",
      "Cost after iteration 1500: 0.588258\n",
      "Cost after iteration 1600: 0.587401\n",
      "Cost after iteration 1700: 0.586567\n",
      "Cost after iteration 1800: 0.585766\n",
      "Cost after iteration 1900: 0.584994\n",
      "Cost after iteration 2000: 0.584232\n",
      "Cost after iteration 2100: 0.583484\n",
      "Cost after iteration 2200: 0.582742\n",
      "Cost after iteration 2300: 0.582008\n",
      "Cost after iteration 2400: 0.581305\n",
      "Cost after iteration 2500: 0.580617\n",
      "Cost after iteration 2600: 0.579939\n",
      "Cost after iteration 2700: 0.579265\n",
      "Cost after iteration 2800: 0.578600\n",
      "Cost after iteration 2900: 0.577921\n",
      "Cost after iteration 3000: 0.577223\n",
      "Cost after iteration 3100: 0.576523\n",
      "Cost after iteration 3200: 0.575812\n",
      "Cost after iteration 3300: 0.575133\n",
      "Cost after iteration 3400: 0.574452\n",
      "Cost after iteration 3500: 0.573761\n",
      "Cost after iteration 3600: 0.573074\n",
      "Cost after iteration 3700: 0.572377\n",
      "Cost after iteration 3800: 0.571636\n",
      "Cost after iteration 3900: 0.570776\n"
     ]
    },
    {
     "data": {
      "image/png": "[encoded data removed]",
      "text/plain": [
       "<Figure size 432x288 with 1 Axes>"
      ]
     },
     "metadata": {
      "needs_background": "light"
     },
     "output_type": "display_data"
    }
   ],
   "source": [
    "parameters = us_layer_model(train_x, train_y, layers_dims, learning_rate = 0.0005, num_iterations = 4000, print_cost = True)"
   ]
  },
  {
   "cell_type": "markdown",
   "metadata": {},
   "source": [
    "### Results"
   ]
  },
  {
   "cell_type": "code",
   "execution_count": 38,
   "metadata": {},
   "outputs": [
    {
     "name": "stdout",
     "output_type": "stream",
     "text": [
      "Accuracy: 0.7063166529942576\n"
     ]
    }
   ],
   "source": [
    "pred_train = predict(train_x, train_y, parameters)"
   ]
  },
  {
   "cell_type": "code",
   "execution_count": 39,
   "metadata": {},
   "outputs": [
    {
     "name": "stdout",
     "output_type": "stream",
     "text": [
      "Accuracy: 0.5\n"
     ]
    }
   ],
   "source": [
    "pred_dev = predict(dev_x, dev_y, parameters)"
   ]
  },
  {
   "cell_type": "code",
   "execution_count": 40,
   "metadata": {},
   "outputs": [
    {
     "name": "stdout",
     "output_type": "stream",
     "text": [
      "Accuracy: 0.7191011235955057\n"
     ]
    }
   ],
   "source": [
    "pred_test = predict(test_x, test_y, parameters)"
   ]
  },
  {
   "cell_type": "markdown",
   "metadata": {},
   "source": [
    "## Fifth attempt \n",
    "- 5 layers\n",
    "- 0.0005 learning rate\n",
    "- 5000 iterations"
   ]
  },
  {
   "cell_type": "code",
   "execution_count": 41,
   "metadata": {},
   "outputs": [],
   "source": [
    "### CONSTANTS ###\n",
    "layers_dims = [12288, 20, 14, 7, 5, 1] #  5-layer model"
   ]
  },
  {
   "cell_type": "code",
   "execution_count": 42,
   "metadata": {},
   "outputs": [
    {
     "name": "stdout",
     "output_type": "stream",
     "text": [
      "Cost after iteration 0: 0.715376\n",
      "Cost after iteration 100: 0.691373\n",
      "Cost after iteration 200: 0.689209\n",
      "Cost after iteration 300: 0.687213\n",
      "Cost after iteration 400: 0.685290\n",
      "Cost after iteration 500: 0.683419\n",
      "Cost after iteration 600: 0.681595\n",
      "Cost after iteration 700: 0.679816\n",
      "Cost after iteration 800: 0.678081\n",
      "Cost after iteration 900: 0.676390\n",
      "Cost after iteration 1000: 0.674742\n",
      "Cost after iteration 1100: 0.673135\n",
      "Cost after iteration 1200: 0.671568\n",
      "Cost after iteration 1300: 0.670039\n",
      "Cost after iteration 1400: 0.668547\n",
      "Cost after iteration 1500: 0.667090\n",
      "Cost after iteration 1600: 0.665669\n",
      "Cost after iteration 1700: 0.664285\n",
      "Cost after iteration 1800: 0.662934\n",
      "Cost after iteration 1900: 0.661617\n",
      "Cost after iteration 2000: 0.660332\n",
      "Cost after iteration 2100: 0.659079\n",
      "Cost after iteration 2200: 0.657856\n",
      "Cost after iteration 2300: 0.656660\n",
      "Cost after iteration 2400: 0.655494\n",
      "Cost after iteration 2500: 0.654356\n",
      "Cost after iteration 2600: 0.653246\n",
      "Cost after iteration 2700: 0.652163\n",
      "Cost after iteration 2800: 0.651106\n",
      "Cost after iteration 2900: 0.650072\n",
      "Cost after iteration 3000: 0.649064\n",
      "Cost after iteration 3100: 0.648079\n",
      "Cost after iteration 3200: 0.647113\n",
      "Cost after iteration 3300: 0.646170\n",
      "Cost after iteration 3400: 0.645251\n",
      "Cost after iteration 3500: 0.644356\n",
      "Cost after iteration 3600: 0.643482\n",
      "Cost after iteration 3700: 0.642628\n",
      "Cost after iteration 3800: 0.641795\n",
      "Cost after iteration 3900: 0.640982\n",
      "Cost after iteration 4000: 0.640189\n",
      "Cost after iteration 4100: 0.639414\n",
      "Cost after iteration 4200: 0.638658\n",
      "Cost after iteration 4300: 0.637921\n",
      "Cost after iteration 4400: 0.637202\n",
      "Cost after iteration 4500: 0.636500\n",
      "Cost after iteration 4600: 0.635814\n",
      "Cost after iteration 4700: 0.635145\n",
      "Cost after iteration 4800: 0.634491\n",
      "Cost after iteration 4900: 0.633853\n"
     ]
    },
    {
     "data": {
      "image/png": "[encoded data removed]",
      "text/plain": [
       "<Figure size 432x288 with 1 Axes>"
      ]
     },
     "metadata": {
      "needs_background": "light"
     },
     "output_type": "display_data"
    }
   ],
   "source": [
    "parameters = us_layer_model(train_x, train_y, layers_dims, learning_rate = 0.0005, num_iterations = 5000, print_cost = True)"
   ]
  },
  {
   "cell_type": "markdown",
   "metadata": {},
   "source": [
    "### Results"
   ]
  },
  {
   "cell_type": "code",
   "execution_count": 43,
   "metadata": {},
   "outputs": [
    {
     "name": "stdout",
     "output_type": "stream",
     "text": [
      "Accuracy: 0.7038556193601313\n"
     ]
    }
   ],
   "source": [
    "pred_train = predict(train_x, train_y, parameters)"
   ]
  },
  {
   "cell_type": "code",
   "execution_count": 44,
   "metadata": {},
   "outputs": [
    {
     "name": "stdout",
     "output_type": "stream",
     "text": [
      "Accuracy: 0.5\n"
     ]
    }
   ],
   "source": [
    "pred_dev = predict(dev_x, dev_y, parameters)"
   ]
  },
  {
   "cell_type": "code",
   "execution_count": 45,
   "metadata": {},
   "outputs": [
    {
     "name": "stdout",
     "output_type": "stream",
     "text": [
      "Accuracy: 0.7265917602996256\n"
     ]
    }
   ],
   "source": [
    "pred_test = predict(test_x, test_y, parameters)"
   ]
  },
  {
   "cell_type": "markdown",
   "metadata": {},
   "source": [
    "## Six attempt \n",
    "- 5 layers\n",
    "- 0.05 learning rate\n",
    "- 5000 iterations"
   ]
  },
  {
   "cell_type": "code",
   "execution_count": 46,
   "metadata": {},
   "outputs": [],
   "source": [
    "### CONSTANTS ###\n",
    "layers_dims = [12288, 20, 14, 7, 5, 1] #  5-layer model"
   ]
  },
  {
   "cell_type": "code",
   "execution_count": 47,
   "metadata": {},
   "outputs": [
    {
     "name": "stdout",
     "output_type": "stream",
     "text": [
      "Cost after iteration 0: 0.715376\n",
      "Cost after iteration 100: 0.615803\n",
      "Cost after iteration 200: 0.608486\n",
      "Cost after iteration 300: 0.607672\n",
      "Cost after iteration 400: 0.607575\n",
      "Cost after iteration 500: 0.607564\n",
      "Cost after iteration 600: 0.607562\n",
      "Cost after iteration 700: 0.607562\n",
      "Cost after iteration 800: 0.607562\n",
      "Cost after iteration 900: 0.607562\n",
      "Cost after iteration 1000: 0.607562\n",
      "Cost after iteration 1100: 0.607562\n",
      "Cost after iteration 1200: 0.607562\n",
      "Cost after iteration 1300: 0.607562\n",
      "Cost after iteration 1400: 0.607562\n",
      "Cost after iteration 1500: 0.607562\n",
      "Cost after iteration 1600: 0.607562\n",
      "Cost after iteration 1700: 0.607562\n",
      "Cost after iteration 1800: 0.607562\n",
      "Cost after iteration 1900: 0.607562\n",
      "Cost after iteration 2000: 0.607562\n",
      "Cost after iteration 2100: 0.607562\n",
      "Cost after iteration 2200: 0.607562\n",
      "Cost after iteration 2300: 0.607562\n",
      "Cost after iteration 2400: 0.607562\n",
      "Cost after iteration 2500: 0.607562\n",
      "Cost after iteration 2600: 0.607562\n",
      "Cost after iteration 2700: 0.607562\n",
      "Cost after iteration 2800: 0.607562\n",
      "Cost after iteration 2900: 0.607562\n",
      "Cost after iteration 3000: 0.607562\n",
      "Cost after iteration 3100: 0.607562\n",
      "Cost after iteration 3200: 0.607562\n",
      "Cost after iteration 3300: 0.607562\n",
      "Cost after iteration 3400: 0.607562\n",
      "Cost after iteration 3500: 0.607562\n",
      "Cost after iteration 3600: 0.607562\n",
      "Cost after iteration 3700: 0.607562\n",
      "Cost after iteration 3800: 0.607562\n",
      "Cost after iteration 3900: 0.607562\n",
      "Cost after iteration 4000: 0.607562\n",
      "Cost after iteration 4100: 0.607562\n",
      "Cost after iteration 4200: 0.607562\n",
      "Cost after iteration 4300: 0.607562\n",
      "Cost after iteration 4400: 0.607562\n",
      "Cost after iteration 4500: 0.607562\n",
      "Cost after iteration 4600: 0.607562\n",
      "Cost after iteration 4700: 0.607562\n",
      "Cost after iteration 4800: 0.607562\n",
      "Cost after iteration 4900: 0.607562\n"
     ]
    },
    {
     "data": {
      "image/png": "[encoded data removed]",
      "text/plain": [
       "<Figure size 432x288 with 1 Axes>"
      ]
     },
     "metadata": {
      "needs_background": "light"
     },
     "output_type": "display_data"
    }
   ],
   "source": [
    "parameters = us_layer_model(train_x, train_y, layers_dims, learning_rate = 0.05, num_iterations = 5000, print_cost = True)"
   ]
  },
  {
   "cell_type": "markdown",
   "metadata": {},
   "source": [
    "### Results"
   ]
  },
  {
   "cell_type": "code",
   "execution_count": 48,
   "metadata": {},
   "outputs": [
    {
     "name": "stdout",
     "output_type": "stream",
     "text": [
      "Accuracy: 0.7038556193601313\n"
     ]
    }
   ],
   "source": [
    "pred_train = predict(train_x, train_y, parameters)"
   ]
  },
  {
   "cell_type": "code",
   "execution_count": 49,
   "metadata": {},
   "outputs": [
    {
     "name": "stdout",
     "output_type": "stream",
     "text": [
      "Accuracy: 0.5\n"
     ]
    }
   ],
   "source": [
    "pred_dev = predict(dev_x, dev_y, parameters)"
   ]
  },
  {
   "cell_type": "code",
   "execution_count": 50,
   "metadata": {},
   "outputs": [
    {
     "name": "stdout",
     "output_type": "stream",
     "text": [
      "Accuracy: 0.7265917602996256\n"
     ]
    }
   ],
   "source": [
    "pred_test = predict(test_x, test_y, parameters)"
   ]
  },
  {
   "cell_type": "code",
   "execution_count": null,
   "metadata": {},
   "outputs": [],
   "source": []
  },
  {
   "cell_type": "markdown",
   "metadata": {},
   "source": [
    "## Seven attempt \n",
    "- 5 layers\n",
    "- 0.005 learning rate\n",
    "- 2000 iterations"
   ]
  },
  {
   "cell_type": "code",
   "execution_count": 51,
   "metadata": {},
   "outputs": [],
   "source": [
    "### CONSTANTS ###\n",
    "layers_dims = [12288, 20, 14, 7, 5, 1] #  5-layer model"
   ]
  },
  {
   "cell_type": "code",
   "execution_count": 52,
   "metadata": {},
   "outputs": [
    {
     "name": "stdout",
     "output_type": "stream",
     "text": [
      "Cost after iteration 0: 0.715376\n",
      "Cost after iteration 100: 0.674728\n",
      "Cost after iteration 200: 0.660302\n",
      "Cost after iteration 300: 0.649023\n",
      "Cost after iteration 400: 0.640193\n",
      "Cost after iteration 500: 0.633249\n",
      "Cost after iteration 600: 0.627781\n",
      "Cost after iteration 700: 0.623466\n",
      "Cost after iteration 800: 0.620029\n",
      "Cost after iteration 900: 0.617287\n",
      "Cost after iteration 1000: 0.615075\n",
      "Cost after iteration 1100: 0.613141\n",
      "Cost after iteration 1200: 0.610941\n",
      "Cost after iteration 1300: 0.609031\n",
      "Cost after iteration 1400: 0.607278\n",
      "Cost after iteration 1500: 0.605632\n",
      "Cost after iteration 1600: 0.603800\n",
      "Cost after iteration 1700: 0.601753\n",
      "Cost after iteration 1800: 0.599652\n",
      "Cost after iteration 1900: 0.596963\n"
     ]
    },
    {
     "data": {
      "image/png": "[encoded data removed]",
      "text/plain": [
       "<Figure size 432x288 with 1 Axes>"
      ]
     },
     "metadata": {
      "needs_background": "light"
     },
     "output_type": "display_data"
    }
   ],
   "source": [
    "parameters = us_layer_model(train_x, train_y, layers_dims, learning_rate = 0.005, num_iterations = 2000, print_cost = True)"
   ]
  },
  {
   "cell_type": "markdown",
   "metadata": {},
   "source": [
    "### Results"
   ]
  },
  {
   "cell_type": "code",
   "execution_count": 53,
   "metadata": {},
   "outputs": [
    {
     "name": "stdout",
     "output_type": "stream",
     "text": [
      "Accuracy: 0.7038556193601313\n"
     ]
    }
   ],
   "source": [
    "pred_train = predict(train_x, train_y, parameters)"
   ]
  },
  {
   "cell_type": "code",
   "execution_count": 54,
   "metadata": {},
   "outputs": [
    {
     "name": "stdout",
     "output_type": "stream",
     "text": [
      "Accuracy: 0.5\n"
     ]
    }
   ],
   "source": [
    "pred_dev = predict(dev_x, dev_y, parameters)"
   ]
  },
  {
   "cell_type": "code",
   "execution_count": 55,
   "metadata": {},
   "outputs": [
    {
     "name": "stdout",
     "output_type": "stream",
     "text": [
      "Accuracy: 0.7265917602996256\n"
     ]
    }
   ],
   "source": [
    "pred_test = predict(test_x, test_y, parameters)"
   ]
  }
 ],
 "metadata": {
  "kernelspec": {
   "display_name": "Python 3",
   "language": "python",
   "name": "python3"
  },
  "language_info": {
   "codemirror_mode": {
    "name": "ipython",
    "version": 3
   },
   "file_extension": ".py",
   "mimetype": "text/x-python",
   "name": "python",
   "nbconvert_exporter": "python",
   "pygments_lexer": "ipython3",
   "version": "3.7.3"
  }
 },
 "nbformat": 4,
 "nbformat_minor": 2
}
